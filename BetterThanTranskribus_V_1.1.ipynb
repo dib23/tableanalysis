import os
from os import listdir
from os.path import isfile, join, splitext
import pandas as pd
from tabula import read_pdf

# Define the replacements dictionary
replacements = {
    'CO0': '000',
    'coo': '000',
    'COO': '000',
    'C00': '000',
    'C0O': '000',
    '0C0': '000',
    'ooo': '000',
    '0CO': '000',
    'OC0': '000',
    'TOO': '000',
}

# Function to replace patterns in text
def replace_patterns(text, replacements):
    for old, new in replacements.items():
        text = text.replace(old, new)
    return text

# Function to replace patterns in all columns of an Excel file
def replace_patterns_in_all_columns(file_path, replacements):
    # Load the entire Excel workbook into a dictionary of DataFrames (one per sheet)
    excel_file = pd.read_excel(file_path, sheet_name=None)  # Load all sheets
    
    # Iterate through each sheet and apply the replacements
    for sheet_name, df in excel_file.items():
        for col in df.columns:
            # Apply replacements only to non-empty cells
            df[col] = df[col].apply(lambda x: x if pd.isna(x) else replace_patterns(str(x), replacements))
    
    # Save the modified DataFrames back to the Excel file
    with pd.ExcelWriter(file_path, engine='openpyxl', mode='w') as writer:
        for sheet_name, df in excel_file.items():
            df.to_excel(writer, sheet_name=sheet_name, index=False, header=False)
    
    print(f"Replaced patterns in all sheets and saved back to '{file_path}'")

# Folder containing PDF files
folder = r"D:\\Extracted Tables\\1921"

# Get a list of PDF files in the folder
files = [f for f in listdir(folder) if isfile(join(folder, f)) and f.lower().endswith(".pdf")]

# Iterate through each file
for file in files:
    pdf_path = join(folder, file)  # Full path to the PDF
    print(f"Processing file: {pdf_path}")
    
    # Extract tables from the PDF using Tabula
    try:
        tables = read_pdf(
            pdf_path,
            pages="all",
            multiple_tables=True,
            pandas_options={"header": None},
            columns=[34.5, 70.4, 120.0, 150.5, 200.0, 266.9, 300.5, 328.6, 400.0, 450.2, 480.5, 550.0]
        )
        if not tables:
            print(f"No tables found in {file}.")
            continue
        print(f"Extracted {len(tables)} tables from {file}")
    except Exception as e:
        print(f"Error extracting tables from {file}: {e}")
        continue

    # Generate a new Excel file path
    name, _ = splitext(file)  # Split the file name and its extension
    excel_name = f"{name}.xlsx"  # Replace the extension with .xlsx
    excel_path = join(folder, excel_name)

    # Save extracted tables to Excel
    try:
        with pd.ExcelWriter(excel_path, engine="openpyxl") as writer:
            for i, table in enumerate(tables):
                table.to_excel(writer, sheet_name=f"Table_{i + 1}", index=False, header=False)
        print(f"Saved tables to Excel: {excel_path}")
    except Exception as e:
        print(f"Error saving tables to Excel for {file}: {e}")
        continue

    # Replace patterns in the Excel file
    try:
        replace_patterns_in_all_columns(excel_path, replacements)
    except Exception as e:
        print(f"Error while replacing patterns in {excel_path}: {e}")
